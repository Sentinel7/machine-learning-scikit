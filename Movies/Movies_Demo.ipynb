{
 "cells": [
  {
   "cell_type": "code",
   "execution_count": 5,
   "metadata": {},
   "outputs": [],
   "source": [
    "import warnings\n",
    "warnings.filterwarnings(action='ignore')\n",
    "\n",
    "import pandas as pd\n",
    "import seaborn as sns\n",
    "import numpy as np\n",
    "from sklearn.model_selection import train_test_split\n",
    "from sklearn.model_selection import cross_val_score\n",
    "from sklearn.linear_model import LinearRegression\n",
    "from sklearn import metrics"
   ]
  },
  {
   "cell_type": "markdown",
   "metadata": {},
   "source": [
    "### [MovieLens movie ratings dataset:](https://grouplens.org/datasets/movielens/100k/) 100,000 ratings from 1000 users on 1700 movies. "
   ]
  },
  {
   "cell_type": "code",
   "execution_count": 6,
   "metadata": {},
   "outputs": [
    {
     "data": {
      "text/html": [
       "<div>\n",
       "<style scoped>\n",
       "    .dataframe tbody tr th:only-of-type {\n",
       "        vertical-align: middle;\n",
       "    }\n",
       "\n",
       "    .dataframe tbody tr th {\n",
       "        vertical-align: top;\n",
       "    }\n",
       "\n",
       "    .dataframe thead th {\n",
       "        text-align: right;\n",
       "    }\n",
       "</style>\n",
       "<table border=\"1\" class=\"dataframe\">\n",
       "  <thead>\n",
       "    <tr style=\"text-align: right;\">\n",
       "      <th></th>\n",
       "      <th>Lady in the Water</th>\n",
       "      <th>Snakes on a Plane</th>\n",
       "      <th>Just my luck</th>\n",
       "      <th>Superman Returns</th>\n",
       "      <th>The Night Listener</th>\n",
       "      <th>You, Me and Dupree (target)</th>\n",
       "    </tr>\n",
       "    <tr>\n",
       "      <th>Index</th>\n",
       "      <th></th>\n",
       "      <th></th>\n",
       "      <th></th>\n",
       "      <th></th>\n",
       "      <th></th>\n",
       "      <th></th>\n",
       "    </tr>\n",
       "  </thead>\n",
       "  <tbody>\n",
       "    <tr>\n",
       "      <th>Lisa</th>\n",
       "      <td>2.5</td>\n",
       "      <td>3.5</td>\n",
       "      <td>3.0</td>\n",
       "      <td>3.5</td>\n",
       "      <td>3.0</td>\n",
       "      <td>2.5</td>\n",
       "    </tr>\n",
       "    <tr>\n",
       "      <th>Gene</th>\n",
       "      <td>3.0</td>\n",
       "      <td>3.5</td>\n",
       "      <td>1.5</td>\n",
       "      <td>5.0</td>\n",
       "      <td>3.5</td>\n",
       "      <td>3.0</td>\n",
       "    </tr>\n",
       "    <tr>\n",
       "      <th>Mike</th>\n",
       "      <td>2.5</td>\n",
       "      <td>3.0</td>\n",
       "      <td>2.4</td>\n",
       "      <td>3.5</td>\n",
       "      <td>4.0</td>\n",
       "      <td>2.4</td>\n",
       "    </tr>\n",
       "    <tr>\n",
       "      <th>Claudia</th>\n",
       "      <td>2.8</td>\n",
       "      <td>3.5</td>\n",
       "      <td>3.0</td>\n",
       "      <td>4.0</td>\n",
       "      <td>4.5</td>\n",
       "      <td>2.5</td>\n",
       "    </tr>\n",
       "    <tr>\n",
       "      <th>Mick</th>\n",
       "      <td>3.0</td>\n",
       "      <td>4.0</td>\n",
       "      <td>2.0</td>\n",
       "      <td>3.0</td>\n",
       "      <td>3.0</td>\n",
       "      <td>2.0</td>\n",
       "    </tr>\n",
       "  </tbody>\n",
       "</table>\n",
       "</div>"
      ],
      "text/plain": [
       "         Lady in the Water  Snakes on a Plane  Just my luck  Superman Returns  \\\n",
       "Index                                                                           \n",
       "Lisa                   2.5                3.5           3.0               3.5   \n",
       "Gene                   3.0                3.5           1.5               5.0   \n",
       "Mike                   2.5                3.0           2.4               3.5   \n",
       "Claudia                2.8                3.5           3.0               4.0   \n",
       "Mick                   3.0                4.0           2.0               3.0   \n",
       "\n",
       "         The Night Listener  You, Me and Dupree (target)  \n",
       "Index                                                     \n",
       "Lisa                    3.0                          2.5  \n",
       "Gene                    3.5                          3.0  \n",
       "Mike                    4.0                          2.4  \n",
       "Claudia                 4.5                          2.5  \n",
       "Mick                    3.0                          2.0  "
      ]
     },
     "execution_count": 6,
     "metadata": {},
     "output_type": "execute_result"
    }
   ],
   "source": [
    "data = pd.read_csv('Datasets/movies_demo.txt', sep='\\t', index_col=0)\n",
    "data.head()"
   ]
  },
  {
   "cell_type": "code",
   "execution_count": 7,
   "metadata": {},
   "outputs": [
    {
     "data": {
      "text/plain": [
       "<seaborn.axisgrid.PairGrid at 0x1a1c61c358>"
      ]
     },
     "execution_count": 7,
     "metadata": {},
     "output_type": "execute_result"
    },
    {
     "data": {
      "image/png": "[encoded data removed]",
      "text/plain": [
       "<Figure size 1764x504 with 5 Axes>"
      ]
     },
     "metadata": {
      "needs_background": "light"
     },
     "output_type": "display_data"
    }
   ],
   "source": [
    "# Visualize the relationship between features and response\n",
    "%matplotlib inline\n",
    "\n",
    "sns.pairplot(data, x_vars=['Lady in the Water','Snakes on a Plane','Just my luck', 'Superman Returns', 'The Night Listener'], y_vars='You, Me and Dupree (target)', height=7, aspect=0.7, kind='reg')\n"
   ]
  },
  {
   "cell_type": "markdown",
   "metadata": {},
   "source": [
    "### Preparing X and y using Pandas"
   ]
  },
  {
   "cell_type": "code",
   "execution_count": 8,
   "metadata": {},
   "outputs": [],
   "source": [
    "# features matrix X\n",
    "feature_cols = ['Lady in the Water','Snakes on a Plane','Just my luck', 'Superman Returns', 'The Night Listener']\n",
    "X = data[feature_cols]\n",
    "\n",
    "# response vector y\n",
    "y = data['You, Me and Dupree (target)']\n",
    "\n",
    "# split X and y into training & testing sets\n",
    "X_train, X_test, y_train, y_test = train_test_split(X, y)"
   ]
  },
  {
   "cell_type": "markdown",
   "metadata": {},
   "source": [
    "### Linear regression with scikit-learn"
   ]
  },
  {
   "cell_type": "code",
   "execution_count": 9,
   "metadata": {},
   "outputs": [
    {
     "name": "stdout",
     "output_type": "stream",
     "text": [
      "[('Lady in the Water', 2.7377472055030077), ('Snakes on a Plane', -1.806992505128604), ('Just my luck', 0.8395847015253796), ('Superman Returns', 0.5155835099288426), ('The Night Listener', -0.7637436442542703)]\n"
     ]
    }
   ],
   "source": [
    "linreg = LinearRegression()\n",
    "\n",
    "# fit the model to the training data (learn coefficients)\n",
    "linreg.fit(X, y)\n",
    "\n",
    "# pair the features with the coefficients\n",
    "zipped = list(zip(feature_cols, linreg.coef_))\n",
    "print(zipped)\n",
    "\n",
    "# make predictions on the test set\n",
    "y_pred = linreg.predict(X)"
   ]
  },
  {
   "cell_type": "markdown",
   "metadata": {},
   "source": [
    "### Model Evaluation"
   ]
  },
  {
   "cell_type": "code",
   "execution_count": 10,
   "metadata": {},
   "outputs": [],
   "source": [
    "# example true and predicted response values\n",
    "true = [100, 50, 30, 20]\n",
    "pred = [90, 50, 50, 30]"
   ]
  },
  {
   "cell_type": "code",
   "execution_count": 11,
   "metadata": {},
   "outputs": [
    {
     "name": "stdout",
     "output_type": "stream",
     "text": [
      "10.0\n",
      "10.0\n",
      "0.08599941774260136\n"
     ]
    }
   ],
   "source": [
    "## Mean Absolute Error: the mean of the absolute value of errors\n",
    "\n",
    "# MAE example by hand\n",
    "print((10 + 0 + 20 + 10)/4)\n",
    "\n",
    "# MAE example using sk-learn\n",
    "print(metrics.mean_absolute_error(true, pred))\n",
    "\n",
    "# Computing real MAE for our Sales predictions\n",
    "print(metrics.mean_absolute_error(y, y_pred))"
   ]
  },
  {
   "cell_type": "code",
   "execution_count": 12,
   "metadata": {},
   "outputs": [
    {
     "name": "stdout",
     "output_type": "stream",
     "text": [
      "150.0\n",
      "150.0\n",
      "0.010549928571912134\n"
     ]
    }
   ],
   "source": [
    "## Mean Squared Error: the mean of the squared errors\n",
    "\n",
    "# MSE example by hand\n",
    "print((10**2 + 0**2 + 20**2 + 10**2)/4)\n",
    "\n",
    "# MSE example using sk-learn\n",
    "print(metrics.mean_squared_error(true, pred))\n",
    "\n",
    "# Computing real MSE for our Sales predictions\n",
    "print(metrics.mean_squared_error(y, y_pred))"
   ]
  },
  {
   "cell_type": "code",
   "execution_count": 13,
   "metadata": {},
   "outputs": [
    {
     "name": "stdout",
     "output_type": "stream",
     "text": [
      "12.24744871391589\n",
      "12.24744871391589\n",
      "0.10271284521379073\n"
     ]
    }
   ],
   "source": [
    "## Root Mean Squared Error: the sqr. root of mean of the squared errors\n",
    "\n",
    "# RMSE example by hand\n",
    "print(np.sqrt((10**2 + 0**2 + 20**2 + 10**2)/4))\n",
    "\n",
    "# RMSE example using sk-learn\n",
    "print(np.sqrt(metrics.mean_squared_error(true, pred)))\n",
    "\n",
    "# Computing real RMSE for our Sales predictions\n",
    "print(np.sqrt(metrics.mean_squared_error(y, y_pred)))"
   ]
  },
  {
   "cell_type": "markdown",
   "metadata": {},
   "source": [
    "* MAE: easiest to understand, it's the average error\n",
    "* MSE: more popular than MAE because it \"punishes\" larger errors\n",
    "* RMSE: even more popular than MSE because it's in \"y\" units"
   ]
  }
 ],
 "metadata": {
  "kernelspec": {
   "display_name": "Python 3",
   "language": "python",
   "name": "python3"
  },
  "language_info": {
   "codemirror_mode": {
    "name": "ipython",
    "version": 3
   },
   "file_extension": ".py",
   "mimetype": "text/x-python",
   "name": "python",
   "nbconvert_exporter": "python",
   "pygments_lexer": "ipython3",
   "version": "3.7.1"
  }
 },
 "nbformat": 4,
 "nbformat_minor": 2
}
